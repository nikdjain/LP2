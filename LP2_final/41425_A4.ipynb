{
 "cells": [
  {
   "cell_type": "code",
   "execution_count": 3,
   "metadata": {},
   "outputs": [
    {
     "name": "stdout",
     "output_type": "stream",
     "text": [
      "Collecting pandas\n",
      "  Using cached pandas-1.1.2-cp37-cp37m-win32.whl (8.1 MB)\n",
      "Requirement already satisfied: numpy>=1.15.4 in c:\\users\\ashwini\\appdata\\local\\programs\\python\\python37-32\\lib\\site-packages (from pandas) (1.16.4)\n",
      "Requirement already satisfied: python-dateutil>=2.7.3 in c:\\users\\ashwini\\appdata\\local\\programs\\python\\python37-32\\lib\\site-packages (from pandas) (2.8.1)\n",
      "Collecting pytz>=2017.2\n",
      "  Using cached pytz-2020.1-py2.py3-none-any.whl (510 kB)\n",
      "Requirement already satisfied: six>=1.5 in c:\\users\\ashwini\\appdata\\roaming\\python\\python37\\site-packages (from python-dateutil>=2.7.3->pandas) (1.15.0)\n",
      "Installing collected packages: pytz, pandas\n",
      "Successfully installed pandas-1.1.2 pytz-2020.1\n",
      "Note: you may need to restart the kernel to use updated packages.\n"
     ]
    }
   ],
   "source": [
    "pip install pandas"
   ]
  },
  {
   "cell_type": "code",
   "execution_count": 6,
   "metadata": {
    "scrolled": true
   },
   "outputs": [
    {
     "name": "stdout",
     "output_type": "stream",
     "text": [
      "Collecting nltk\n",
      "  Using cached nltk-3.5.zip (1.4 MB)\n",
      "Collecting click\n",
      "  Using cached click-7.1.2-py2.py3-none-any.whl (82 kB)\n",
      "Requirement already satisfied: joblib in c:\\users\\ashwini\\appdata\\local\\programs\\python\\python37-32\\lib\\site-packages (from nltk) (0.16.0)\n",
      "Collecting regex\n",
      "  Using cached regex-2020.7.14-cp37-cp37m-win32.whl (252 kB)\n",
      "Collecting tqdm\n",
      "  Downloading tqdm-4.49.0-py2.py3-none-any.whl (69 kB)\n",
      "Using legacy 'setup.py install' for nltk, since package 'wheel' is not installed.\n",
      "Installing collected packages: click, regex, tqdm, nltk\n",
      "    Running setup.py install for nltk: started\n",
      "    Running setup.py install for nltk: finished with status 'done'\n",
      "Successfully installed click-7.1.2 nltk-3.5 regex-2020.7.14 tqdm-4.49.0\n",
      "Note: you may need to restart the kernel to use updated packages.\n"
     ]
    }
   ],
   "source": [
    "pip install nltk"
   ]
  },
  {
   "cell_type": "code",
   "execution_count": 43,
   "metadata": {},
   "outputs": [],
   "source": [
    "import math\n",
    "import pickle\n",
    "import pandas as pd\n",
    "from nltk.tokenize import word_tokenize\n",
    "from nltk.corpus import stopwords\n",
    "from string import punctuation\n",
    "import argparse\n",
    "from collections import Counter\n",
    "from nltk.stem import PorterStemmer"
   ]
  },
  {
   "cell_type": "code",
   "execution_count": 53,
   "metadata": {},
   "outputs": [],
   "source": [
    "def get_terms(email):\n",
    "    \"\"\"1) Lowercase the email\n",
    "    2) Tokenize the email into words\n",
    "    3) Remove stop words and punctuation\n",
    "    \"\"\"\n",
    "    ps=PorterStemmer()\n",
    "    tokens = word_tokenize(email.lower())\n",
    "    words_to_remove = stopwords.words(\"english\")\n",
    "    words_to_remove.extend(list(punctuation))\n",
    "    return [ps.stem(t) for t in set(tokens) if not t in words_to_remove]\n"
   ]
  },
  {
   "cell_type": "code",
   "execution_count": 45,
   "metadata": {},
   "outputs": [],
   "source": [
    "def get_term_doc(emails):\n",
    "    \"\"\"Turn tokenized emails into a term-document dictionary\"\"\"\n",
    "    term_doc = {}\n",
    "    for i, email in enumerate(emails):\n",
    "        for term in email:\n",
    "            if term in term_doc:\n",
    "                term_doc[term].add(i)\n",
    "            else:\n",
    "                term_doc[term] = {i}\n",
    "    return term_doc"
   ]
  },
  {
   "cell_type": "code",
   "execution_count": 46,
   "metadata": {},
   "outputs": [],
   "source": [
    "def compute_idfs(term_doc, corpus_size):\n",
    "    \"\"\"\n",
    "    Calculate idfs for all the terms\n",
    "    idf = log2 (corpus size / doc freq)\n",
    "    \"\"\"\n",
    "    idfs = {}\n",
    "    for term in term_doc:\n",
    "        doc_freq = len(term_doc[term])\n",
    "        idfs[term] = math.log2(corpus_size / doc_freq)\n",
    "    return idfs"
   ]
  },
  {
   "cell_type": "code",
   "execution_count": 47,
   "metadata": {},
   "outputs": [],
   "source": [
    "def get_tfidfs(input_email):\n",
    "    \"\"\"Get the list of terms and corresponding\n",
    "    tf-idf scores\"\"\"\n",
    "    with open(\"idf_results.p\", \"rb\") as idf_pickle:\n",
    "        idfs = pickle.load(idf_pickle)\n",
    "    tokens = word_tokenize(input_email.lower())\n",
    "    tfs = Counter(tokens)\n",
    "    tfidfs = {}\n",
    "    for term in tfs:\n",
    "        if term in idfs:\n",
    "            tfidfs[term] = tfs[term] * idfs[term]\n",
    "    counter = Counter(tfidfs).most_common()\n",
    "    return dict(counter)"
   ]
  },
  {
   "cell_type": "code",
   "execution_count": 48,
   "metadata": {},
   "outputs": [],
   "source": [
    "def print_result(filename):\n",
    "    with open(filename) as file:\n",
    "        input_email = file.read()\n",
    "    tfidfs = get_tfidfs(input_email)\n",
    "    print(tfidfs)"
   ]
  },
  {
   "cell_type": "code",
   "execution_count": 55,
   "metadata": {},
   "outputs": [
    {
     "name": "stdout",
     "output_type": "stream",
     "text": [
      "{'amazon': 42.87584364793684, 'we': 35.15688273595263, 'web': 33.3065739568218, 'survey': 33.038117173387654, 'on': 25.43792182396842, 'will': 21.58619686778159, 'be': 20.794065634193696, 'of': 12.71896091198421, 'an': 12.71896091198421, 'not': 12.71896091198421, 'share': 11.721959833713276, 'in': 11.133998411263054, \"'re\": 10.422332543571027, '»': 10.397032817096848, 'do': 8.71896091198421, 'take': 8.56866536869497, 'feedback': 7.860979916856638, 'enter': 7.509507546355261, 'dear': 7.133998411263054, 'time': 6.918435296586858, 'other': 5.480556172659131, 'better': 5.424340163092583, 'team': 5.203261073700168, \"'ll\": 4.702152624297656, 'much': 4.669112362533649, 'thank': 4.203261073700168, 'need': 3.8241431486762667}\n"
     ]
    }
   ],
   "source": [
    "if __name__ == \"__main__\":\n",
    "    # reading in the E-mails from the Hillary Clinton email corpus\n",
    "    emails = (pd.read_csv(\"Emails.csv\")\n",
    "              [\"ExtractedBodyText\"]\n",
    "              .dropna()\n",
    "              \n",
    "              .tolist())\n",
    "    tokenized_emails = [get_terms(email) for email in emails]\n",
    "#     print(tokenized_emails[:20])\n",
    "    term_doc = get_term_doc(tokenized_emails)\n",
    "    idfs = compute_idfs(term_doc, len(emails))\n",
    "\n",
    "    # we will use this pickle in the get_tfidfs.py script\n",
    "    with open(\"idf_results.p\", \"wb\") as idf_file:\n",
    "        pickle.dump(idfs, idf_file)\n",
    "    print_result(\"aws_mail.txt\")"
   ]
  },
  {
   "cell_type": "code",
   "execution_count": null,
   "metadata": {},
   "outputs": [],
   "source": []
  }
 ],
 "metadata": {
  "kernelspec": {
   "display_name": "Python 3",
   "language": "python",
   "name": "python3"
  },
  "language_info": {
   "codemirror_mode": {
    "name": "ipython",
    "version": 3
   },
   "file_extension": ".py",
   "mimetype": "text/x-python",
   "name": "python",
   "nbconvert_exporter": "python",
   "pygments_lexer": "ipython3",
   "version": "3.7.4"
  }
 },
 "nbformat": 4,
 "nbformat_minor": 4
}
